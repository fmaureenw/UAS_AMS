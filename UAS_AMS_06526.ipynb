{
  "cells": [
    {
      "cell_type": "markdown",
      "source": [
        "### **Ujian Akhir Semester Analitika Media Sosial**\n",
        "\n",
        "Nama : Faustina Maureen Widjojo\n",
        "\n",
        "NIM : A12.2020.06526\n",
        "\n",
        "Kelompok : A12.6501"
      ],
      "metadata": {
        "id": "8ni9MVmPzJQb"
      }
    },
    {
      "cell_type": "code",
      "execution_count": 1,
      "metadata": {
        "id": "OB_75O1xibrt"
      },
      "outputs": [],
      "source": [
        "# from google.colab import drive\n",
        "# drive.mount('/content/drive')\n",
        "# import sys\n",
        "# sys.path.append('/content/drive/My Drive')"
      ]
    },
    {
      "cell_type": "markdown",
      "source": [
        "The pathlib is a Python module which provides an object API for working with files and directories."
      ],
      "metadata": {
        "id": "0LKrZXV4z3B4"
      }
    },
    {
      "cell_type": "code",
      "execution_count": 61,
      "metadata": {
        "colab": {
          "base_uri": "https://localhost:8080/"
        },
        "id": "XwErS-1oiieW",
        "outputId": "a32429ea-52cd-48d9-e0f3-a89d56aeb2ba"
      },
      "outputs": [
        {
          "output_type": "execute_result",
          "data": {
            "text/plain": [
              "PosixPath('/content')"
            ]
          },
          "metadata": {},
          "execution_count": 61
        }
      ],
      "source": [
        "import pathlib\n",
        "pathlib.Path().resolve()"
      ]
    },
    {
      "cell_type": "markdown",
      "source": [
        "NLTK consists of the most common algorithms such as tokenizing, part-of-speech tagging, stemming, sentiment analysis, topic segmentation, and named entity recognition.\n",
        "\n",
        "NLTK helps the computer to analysis, preprocess, and understand the written text."
      ],
      "metadata": {
        "id": "LG4slXuK0FWE"
      }
    },
    {
      "cell_type": "code",
      "execution_count": 62,
      "metadata": {
        "colab": {
          "base_uri": "https://localhost:8080/"
        },
        "id": "sF5lc5oyinI6",
        "outputId": "563da222-7473-410e-bf03-55332eeb962c"
      },
      "outputs": [
        {
          "output_type": "stream",
          "name": "stderr",
          "text": [
            "[nltk_data] Downloading package punkt to /root/nltk_data...\n",
            "[nltk_data]   Package punkt is already up-to-date!\n",
            "[nltk_data] Downloading package averaged_perceptron_tagger to\n",
            "[nltk_data]     /root/nltk_data...\n",
            "[nltk_data]   Package averaged_perceptron_tagger is already up-to-\n",
            "[nltk_data]       date!\n"
          ]
        },
        {
          "output_type": "execute_result",
          "data": {
            "text/plain": [
              "True"
            ]
          },
          "metadata": {},
          "execution_count": 62
        }
      ],
      "source": [
        "#importing the required packages\n",
        "import nltk\n",
        "#### Run it, if before never download nltk library\n",
        "# nltk.download('all')\n",
        "import re\n",
        "import string\n",
        "import gensim \n",
        "from gensim.parsing.preprocessing import remove_stopwords\n",
        "from nltk import sent_tokenize, word_tokenize\n",
        "from nltk.stem.snowball import SnowballStemmer\n",
        "from sklearn.metrics.pairwise import cosine_similarity\n",
        "from scipy import spatial\n",
        "from nltk import pos_tag,word_tokenize,ne_chunk\n",
        "from sklearn.feature_extraction.text import TfidfVectorizer\n",
        "from pandas import DataFrame\n",
        "\n",
        "from nltk.corpus import wordnet,stopwords\n",
        "import spacy\n",
        "import nltk\n",
        "nltk.download('punkt')\n",
        "nltk.download('averaged_perceptron_tagger')"
      ]
    },
    {
      "cell_type": "markdown",
      "source": [
        "**Uploading Reference Article Cholera.txt**\n"
      ],
      "metadata": {
        "id": "tCbT3YEUzfit"
      }
    },
    {
      "cell_type": "code",
      "execution_count": 75,
      "metadata": {
        "id": "Y0fsK710ipQS"
      },
      "outputs": [],
      "source": [
        "from google.colab import files\n",
        "# uploaded=files.upload()\n",
        "sample = open(\"Cholera.txt\", \"r\") \n",
        "\n",
        "s = sample.read()"
      ]
    },
    {
      "cell_type": "code",
      "execution_count": 76,
      "metadata": {
        "colab": {
          "base_uri": "https://localhost:8080/",
          "height": 643
        },
        "id": "O1I6EN9VitCb",
        "outputId": "3f64f0ba-30fa-4ff5-d763-edd89cd1598b"
      },
      "outputs": [
        {
          "output_type": "execute_result",
          "data": {
            "text/plain": [
              "'Cholera is an infection of the small intestine by some strains of the bacterium Vibrio cholerae. Symptoms may range from none, to mild, to severe. The classic symptom is large amounts of watery diarrhea that lasts a few days. Vomiting and muscle cramps may also occur. Diarrhea can be so severe that it leads within hours to severe dehydration and electrolyte imbalance. This may result in sunken eyes, cold skin, decreased skin elasticity, and wrinkling of the hands and feet. Dehydration can cause the skin to turn bluish. Symptoms start two hours to five days after exposure.\\nCholera is caused by a number of types of Vibrio cholerae, with some types producing more severe disease than others. Cholera is spread mostly by unsafe water and unsafe food that has been contaminated with human feces containing the bacteria. Undercooked shellfish is a common source. Humans are the only known host for the bacteria. Risk factors for the disease include poor sanitation, not enough clean drinking water, and poverty. Cholera can be diagnosed by a stool test. A rapid dipstick test is available but is not as accurate.\\nPrevention methods against cholera include improved sanitation and access to clean water. Cholera vaccines that are given by mouth provide reasonable protection for about six months. They have the added benefit of protecting against another type of diarrhea caused by E. coli. By 2017 the US Food and Drug Administration (FDA) had approved a single-dose, live, oral cholera vaccine called Vaxchora for adults aged 18–64 who are travelling to an area of active cholera transmission. It offers limited protection to young children. People who survive an episode of cholera have long-lasting immunity for at least 3 years (the period tested.)\\nThe primary treatment for affected individuals is oral rehydration salts (ORS), the replacement of fluids and electrolytes by using slightly sweet and salty solutions. Rice-based solutions are preferred. Zinc supplementation is useful in children. In severe cases, intravenous fluids, such as Ringer\\'s lactate, may be required, and antibiotics may be beneficial. Testing to see which antibiotic the cholera is susceptible to can help guide the choice.\\nCholera continues to affect an estimated 3–5 million people worldwide and causes 28,800–130,000 deaths a year. The most recent of seven cholera pandemics and associated outbreaks, since the early 19th century, started about 1961. As of 2010, it is rare in high income countries. Children are mostly affected. Cholera occurs as both outbreaks and chronically in certain areas. Areas with an ongoing risk of disease include Africa and Southeast Asia. The risk of death among those affected is usually less than 5%, given improved treatment, but may be as high as 50% without such access to treatment. Descriptions of cholera are found as early as the 5th century BC in Sanskrit. In Europe, cholera was a term initially used to describe any kind of gastroenteritis, and was not used for this disease until the early 19th century. The study of cholera in England by John Snow between 1849 and 1854 led to significant advances in the field of epidemiology because of his insights about transmission via contaminated water.\\nThe primary symptoms of cholera are profuse diarrhea and vomiting of clear fluid. These symptoms usually start suddenly, half a day to five days after ingestion of the bacteria. The diarrhea is frequently described as \"rice water\" in nature and may have a fishy odor. An untreated person with cholera may produce 10 to 20 litres (3 to 5 US gal) of diarrhea a day. Severe cholera, without treatment, kills about half of affected individuals. If the severe diarrhea is not treated, it can result in life-threatening dehydration and electrolyte imbalances. Estimates of the ratio of asymptomatic to symptomatic infections have ranged from 3 to 100. Cholera has been nicknamed the \"blue death\" because a person\\'s skin may turn bluish-gray from extreme loss of fluids.\\nFever is rare and should raise suspicion for secondary infection. Patients can be lethargic and might have sunken eyes, dry mouth, cold clammy skin, or wrinkled hands and feet. Kussmaul breathing, a deep and labored breathing pattern, can occur because of acidosis from stool bicarbonate losses and lactic acidosis associated with poor perfusion. Blood pressure drops due to dehydration, peripheral pulse is rapid and thready, and urine output decreases with time. Muscle cramping and weakness, altered consciousness, seizures, or even coma due to electrolyte imbalances are common, especially in children.\\nCholera bacteria have been found in shellfish and plankton.\\nTransmission is usually through the fecal-oral route of contaminated food or water caused by poor sanitation. Most cholera cases in developed countries are a result of transmission by food, while in developing countries it is more often water. Food transmission can occur when people harvest seafood such as oysters in waters infected with sewage, as Vibrio cholerae accumulates in planktonic crustaceans and the oysters eat the zooplankton.\\nPeople infected with cholera often have diarrhea, and disease transmission may occur if this highly liquid stool, colloquially referred to as \"rice-water\", contaminates water used by others. A single diarrheal event can cause a one-million fold increase in numbers of V. cholerae in the environment. The source of the contamination is typically other people with cholera when their untreated diarrheal discharge is allowed to get into waterways, groundwater or drinking water supplies. Drinking any contaminated water and eating any foods washed in the water, as well as shellfish living in the affected waterway, can cause a person to contract an infection. Cholera is rarely spread directly from person to person.\\nV. cholerae also exists outside the human body in natural water sources, either by itself or through interacting with phytoplankton, zooplankton, or biotic and abiotic detritus. Drinking such water can also result in the disease, even without prior contamination through fecal matter. Selective pressures exist however in the aquatic environment that may reduce the virulence of V. cholerae. Specifically, animal models indicate that the transcriptional profile of the pathogen changes as it prepares to enter an aquatic environment. This transcriptional change results in a loss of ability of V. cholerae to be cultured on standard media, a phenotype referred to as \\'viable but non-culturable\\' (VBNC) or more conservatively \\'active but non-culturable\\' (ABNC). One study indicates that the culturability of V. cholerae drops 90% within 24 hours of entering the water, and furthermore that this loss in culturability is associated with a loss in virulence.\\nBoth toxic and non-toxic strains exist. Non-toxic strains can acquire toxicity through a temperate bacteriophage.\\nAbout 100 million bacteria must typically be ingested to cause cholera in a normal healthy adult. This dose, however, is less in those with lowered gastric acidity (for instance those using proton pump inhibitors). Children are also more susceptible, with two- to four-year-olds having the highest rates of infection. Individuals\\' susceptibility to cholera is also affected by their blood type, with those with type O blood being the most susceptible. Persons with lowered immunity, such as persons with AIDS or malnourished children, are more likely to develop a severe case if they become infected. Any individual, even a healthy adult in middle age, can undergo a severe case, and each person\\'s case should be measured by the loss of fluids, preferably in consultation with a professional health care provider.\\nThe cystic fibrosis genetic mutation known as delta-F508 in humans has been said to maintain a selective heterozygous advantage: heterozygous carriers of the mutation (who are not affected by cystic fibrosis) are more resistant to V. cholerae infections. In this model, the genetic deficiency in the cystic fibrosis transmembrane conductance regulator channel proteins interferes with bacteria binding to the intestinal epithelium, thus reducing the effects of an infection.\\n'"
            ],
            "application/vnd.google.colaboratory.intrinsic+json": {
              "type": "string"
            }
          },
          "metadata": {},
          "execution_count": 76
        }
      ],
      "source": [
        "s"
      ]
    },
    {
      "cell_type": "markdown",
      "source": [
        "**Text Preprocessing Functions**\n",
        "\n",
        "Stemming\n",
        "\n",
        "Stopword\n",
        "\n",
        "create_document_term_matrix: Function to create TF - IDF Matrix\n",
        "\n",
        "calculate_cosine_similarity: Function to return the top 3 sentences based on cosine similarity between TF-IDF scores"
      ],
      "metadata": {
        "id": "zuwnxyQ-0Wm7"
      }
    },
    {
      "cell_type": "code",
      "execution_count": 65,
      "metadata": {
        "id": "emw8JGzwjCxY"
      },
      "outputs": [],
      "source": [
        "def stem_sentence(sentence):\n",
        "  words=word_tokenize(sentence)\n",
        "  #lemmatizer = WordNetLemmatizer()\n",
        "  \n",
        "  \n",
        "  stemmer = SnowballStemmer(\"english\")\n",
        "  new_words=[]\n",
        "  for i in words:\n",
        "    new_words.append(stemmer.stem(i))\n",
        "    new_words.append(\" \")\n",
        "  return \"\".join(new_words)  \n",
        "  \n",
        "\n",
        "\n",
        "def clean_sentence(sentence, stopwords=True):\n",
        "    \n",
        "    sentence = sentence.lower().strip()\n",
        "    sentence = re.sub(r'[^a-z0-9\\s]', '', sentence)\n",
        "    \n",
        "    \n",
        "    \n",
        "    if stopwords:\n",
        "         sentence = remove_stopwords(sentence)\n",
        "    \n",
        "   \n",
        "    \n",
        "    return sentence\n",
        "def get_cleaned_sentences(sents,stopwords=True):    \n",
        "    \n",
        "    cleaned_sentences=[]\n",
        "\n",
        "    for i in sents:\n",
        "        \n",
        "        cleaning=clean_sentence(i,stopwords)\n",
        "        cleaned=stem_sentence(cleaning)\n",
        "        cleaned_sentences.append(cleaned)\n",
        "    return cleaned_sentences"
      ]
    },
    {
      "cell_type": "code",
      "execution_count": 66,
      "metadata": {
        "id": "ut99kFEqjJH5"
      },
      "outputs": [],
      "source": [
        "def create_document_term_matrix(sen,vectorizer):\n",
        "  doc_term_matrix=vectorizer.fit_transform(sen)\n",
        "  return DataFrame(doc_term_matrix.toarray(), columns=vectorizer.get_feature_names())\n",
        "  "
      ]
    },
    {
      "cell_type": "code",
      "execution_count": 67,
      "metadata": {
        "id": "InSWhj9WjZK0"
      },
      "outputs": [],
      "source": [
        "def calculate_cosine_similarity(df_list,sentences,question):\n",
        "  a=[]\n",
        "  for i in range(len(df_list)-1):\n",
        "    sim=1 - spatial.distance.cosine(df_list[i], question)\n",
        "    t=(sim,sentences[i])\n",
        "    a.append(t)\n",
        "  a.sort(reverse=True)\n",
        "  n=[]\n",
        "  for i in range(3):\n",
        "    n.append(a[i][1])\n",
        "    #print(\"*\",n[i])\n",
        "   \n",
        "    \n",
        "  return n "
      ]
    },
    {
      "cell_type": "markdown",
      "source": [
        "Function to classify question"
      ],
      "metadata": {
        "id": "RXFH6B_l1BnU"
      }
    },
    {
      "cell_type": "code",
      "execution_count": 68,
      "metadata": {
        "id": "M1TIsJmSjcP3"
      },
      "outputs": [],
      "source": [
        "def questiontype( question):\n",
        "        questiontags = ['WP','WDT','WP$','WRB']\n",
        "        question_POS = pos_tag(word_tokenize(question.lower()))\n",
        "        \n",
        "        question_Tags=[]\n",
        "        for token in question_POS:\n",
        "            if token[1] in questiontags:\n",
        "              question_Tags.append(token)\n",
        "                \n",
        "                \n",
        "        if len(question_Tags)==1 and question_Tags[0][0]!= 'what' :\n",
        "          return True\n",
        "        else:\n",
        "          return False  "
      ]
    },
    {
      "cell_type": "markdown",
      "source": [
        "Function to find the most relevan sentence using n-gram similarity"
      ],
      "metadata": {
        "id": "eMEVYbdB1G9H"
      }
    },
    {
      "cell_type": "code",
      "execution_count": 69,
      "metadata": {
        "id": "O5xChTODjgRU"
      },
      "outputs": [],
      "source": [
        "from nltk.util import ngrams\n",
        "def n_gram_similarity(question,n):\n",
        "  q=list(ngrams(word_tokenize(question.lower()),1))\n",
        "  a=0\n",
        "  b=0\n",
        "  c=0\n",
        "  t=[]\n",
        "  for i in q:\n",
        "    if i in list(ngrams(word_tokenize(n[0].lower()),1)):\n",
        "      a=a+1\n",
        "  for i in q:\n",
        "    if i in list(ngrams(word_tokenize(n[1].lower()),1)):\n",
        "      b=b+1\n",
        "  for i in q:\n",
        "    if i in list(ngrams(word_tokenize(n[2].lower()),1)):\n",
        "      c=c+1        \n",
        "  d=max(a,b,c)\n",
        "  if a == d:\n",
        "    t.append(n[0])\n",
        "  if b == d:\n",
        "    t.append(n[1]) \n",
        "  if c ==d:\n",
        "    t.append(n[2])\n",
        "  print()  \n",
        "  #print(\"Selected Sentence:\",t[0])  \n",
        "  return t"
      ]
    },
    {
      "cell_type": "markdown",
      "source": [
        "answertype : Determines the type of entity that has to be returned, performs entity ranking if multiplr entitles a present"
      ],
      "metadata": {
        "id": "XCbTk_KC2B7B"
      }
    },
    {
      "cell_type": "code",
      "source": [
        "def answertype(question):\n",
        "  nlp = spacy.load('en_core_web_sm')\n",
        "\n",
        "  if (questiontype(question)):\n",
        "    t='DESCRIPTIVE'\n",
        "    flag=0\n",
        "    word=word_tokenize(question.lower())\n",
        "  \n",
        "    if 'who' in word:\n",
        "      t='PERSON'\n",
        "    elif 'where' in word:\n",
        "      t='GPE'\n",
        "    elif 'how' in word and 'many' in word and  'age' in word or 'duration' in word or 'long' in word or 'days'in word or 'years' in word or'months' in word:\n",
        "      t='DATE' \n",
        "    elif 'how' in word and 'many' in word :\n",
        "       t = 'CARDINAL'  \n",
        "    elif 'when' in word  or 'age' in word or 'period' in word or 'duration' in word  or 'old' in word or 'long' in word:\n",
        "      t='DATE'\n",
        "    elif 'how' in word  and 'long' in word or 'often' or 'age' in word or 'years' in word:\n",
        "      t='DATE' \n",
        "    elif 'what' in word and 'time' in word or 'duration' in word or 'period' in  'word'  :\n",
        "      t='DATE' \n",
        "    i=len(df_list)-1  \n",
        "    n=calculate_cosine_similarity(df_list, sentences,df_list[i])\n",
        "    n=n_gram_similarity(question,n)\n",
        "    #print(\"Most relevant sentence\", n[0])\n",
        "    #print(\"ANSWER TYPE:\",t)\n",
        "    key = n[0]\n",
        "    spdoc = nlp(key)\n",
        "    entity_type=[]\n",
        "    for ent in spdoc.ents:\n",
        "       if ent.label_ == t:\n",
        "          entity_type.append(ent.text)\n",
        "    if len(entity_type) == 1:\n",
        "      #print(\"ANSWER TYPE:\", t)\n",
        "      print(\"ANSWER:\", entity_type[0])  \n",
        "    if len(entity_type) == 0:\n",
        "      #print(\"ANSWER TYPE:\", t) \n",
        "      print(n[0])\n",
        "    if len(entity_type) > 1:\n",
        "      #print(\"Answer Type:\",t)  \n",
        "      key_question = question\n",
        "      q=[]\n",
        "      spdoc = nlp(key_question)\n",
        "      for ent in spdoc:\n",
        "        if ent.pos_ == 'NOUN' or ent.pos_ =='ADJ' :\n",
        "          q.append(ent.text)\n",
        "  \n",
        "      key_answer = n[0]\n",
        "      a = []\n",
        "      spd = nlp(key)\n",
        "      for ent in spd:\n",
        "        if ent.pos_ == 'NOUN'or ent.pos_ =='ADJ' :\n",
        "          a.append(ent.text)\n",
        "  #s=[sentence.index(i) for i in t]\n",
        "      s=[]\n",
        "      w=[]\n",
        "      for i in entity_type:\n",
        "       s.append(n[0].index(i))\n",
        "      for i in range(len(s)):\n",
        "        w.append(0)\n",
        "\n",
        "    \n",
        "      for i in q:\n",
        "        try:\n",
        "           factor= n[0].index(i)\n",
        "           for j in range(len(s)):\n",
        "              w[j]=w[j]+(abs(s[j]-factor))\n",
        "        except:\n",
        "           continue    \n",
        "      m=min(w)\n",
        "      u=[]\n",
        "      for i in range(len(s)):\n",
        "        if w[i] == m:\n",
        "           #print(entity_type[i])\n",
        "           u.append(entity_type[i])\n",
        "      print(\"ANSWER:\",u[0])     \n",
        "      \n",
        "\n",
        "  \n",
        "\n",
        "    \n",
        "  else:\n",
        "    t='DESCRIPTIVE'\n",
        "    #print(\"ANSWER TYPE:\",t)\n",
        "    i=len(df_list)-1  \n",
        "    n=calculate_cosine_similarity(df_list, sentences,df_list[i])\n",
        "    #n = n_gram_similarity(question, n)\n",
        "    for j in n:\n",
        "         print(j) "
      ],
      "metadata": {
        "id": "K-PyaGJIt9y7"
      },
      "execution_count": 70,
      "outputs": []
    },
    {
      "cell_type": "code",
      "source": [
        "#from textblob import TextBlob\n",
        "\n",
        "question=[\"What is Cholera?\", \"What is the symptom of cholera?\", \"How long do the symptoms start after exposure?\", \"How is Cholera spread mostly?\", \"What is the common source of Vibrio cholerae?\", \"What are some risk factors for the disease?\", \"How can cholera be diagnosed?\", \"How are the prevention methods againts cholera?\", \"How long is the protection from the cholera vaccines?\", \"What is the primary treatment for affected individual?\", \"How many death does cholera affect?\", \"What year is the most recent cholera pandemics started?\", \"What is the primary symptoms of cholera?\", \"Why is cholera nicknamed the 'blue death'?\"]\n",
        "for j in question:\n",
        "  #j=TextBlob(j)\n",
        "  #j=str(j.correct())\n",
        " \n",
        "  qq=[]\n",
        "  qp=[]\n",
        "  que=sent_tokenize(j)\n",
        "  \n",
        "  qq.append(que)\n",
        "  qp.append(j)\n",
        "  questiontags = ['WP','WDT','WP$','WRB']\n",
        "  question_POS = pos_tag(word_tokenize(j.lower()))\n",
        "        \n",
        "  question_Tags=[]\n",
        "  for token in question_POS:\n",
        "      if token[1] in questiontags:\n",
        "          question_Tags.append(token)\n",
        "  \n",
        " \n",
        "  if len(question_Tags)>1:\n",
        "     if ' and ' in j :\n",
        "       pos=j.lower().find('and')\n",
        "       qq=[]\n",
        "       qp=[]\n",
        "       qp.append(j[:pos])\n",
        "       qp.append(j[pos+1:])\n",
        "       qq.append(sent_tokenize(j[:pos])) \n",
        "       qq.append(sent_tokenize(j[pos+1:])) \n",
        "  \n",
        "     \n",
        "               \n",
        "  \n",
        "  print(\"QUESTION:\",j)\n",
        "  for k in range(len(qp)):   \n",
        "    \n",
        "    sentences=sent_tokenize(s)\n",
        "    #q contains a list of cleaned sentence tokens of question\n",
        "    q=get_cleaned_sentences(qq[k],stopwords=True)\n",
        "    #preprocessed contains a list of cleaned sentence tokens of the reference text\n",
        "    preprocessed=get_cleaned_sentences(sentences,stopwords=True)\n",
        "  \n",
        "  preprocessed.append(q[0])\n",
        "  i=len(preprocessed)-1\n",
        "    \n",
        "  \n",
        "  tfidf_vect=TfidfVectorizer()\n",
        "  df=create_document_term_matrix(preprocessed,tfidf_vect) \n",
        "  df_list = df.values.tolist()\n",
        "  answertype(qp[k])\n",
        "  print()"
      ],
      "metadata": {
        "colab": {
          "base_uri": "https://localhost:8080/"
        },
        "id": "ALjxuBfWuNyD",
        "outputId": "4b61d1cd-20d5-48ae-c8b8-3df63eeabaa1"
      },
      "execution_count": 73,
      "outputs": [
        {
          "output_type": "stream",
          "name": "stdout",
          "text": [
            "QUESTION: What is Cholera?\n",
            "Cholera is an infection of the small intestine by some strains of the bacterium Vibrio cholerae.\n",
            "Cholera is caused by a number of types of Vibrio cholerae, with some types producing more severe disease than others.\n",
            "Cholera bacteria have been found in shellfish and plankton.\n",
            "\n",
            "QUESTION: What is the symptom of cholera?\n",
            "Symptoms may range from none, to mild, to severe.\n",
            "The primary symptoms of cholera are profuse diarrhea and vomiting of clear fluid.\n",
            "Symptoms start two hours to five days after exposure.\n",
            "\n",
            "QUESTION: How long do the symptoms start after exposure?\n",
            "\n",
            "Symptoms start two hours to five days after exposure.\n",
            "\n",
            "QUESTION: How is Cholera spread mostly?\n",
            "\n",
            "Cholera is spread mostly by unsafe water and unsafe food that has been contaminated with human feces containing the bacteria.\n",
            "\n",
            "QUESTION: What is the common source of Vibrio cholerae?\n",
            "Undercooked shellfish is a common source.\n",
            "Cholera is an infection of the small intestine by some strains of the bacterium Vibrio cholerae.\n",
            "Cholera is caused by a number of types of Vibrio cholerae, with some types producing more severe disease than others.\n",
            "\n",
            "QUESTION: What are some risk factors for the disease?\n",
            "Risk factors for the disease include poor sanitation, not enough clean drinking water, and poverty.\n",
            "Areas with an ongoing risk of disease include Africa and Southeast Asia.\n",
            "Drinking such water can also result in the disease, even without prior contamination through fecal matter.\n",
            "\n",
            "QUESTION: How can cholera be diagnosed?\n",
            "\n",
            "Cholera can be diagnosed by a stool test.\n",
            "\n",
            "QUESTION: How are the prevention methods againts cholera?\n",
            "\n",
            "Prevention methods against cholera include improved sanitation and access to clean water.\n",
            "\n",
            "QUESTION: How long is the protection from the cholera vaccines?\n",
            "\n",
            "ANSWER: about six months\n",
            "\n",
            "QUESTION: What is the primary treatment for affected individual?\n",
            "Severe cholera, without treatment, kills about half of affected individuals.\n",
            "The primary treatment for affected individuals is oral rehydration salts (ORS), the replacement of fluids and electrolytes by using slightly sweet and salty solutions.\n",
            "The risk of death among those affected is usually less than 5%, given improved treatment, but may be as high as 50% without such access to treatment.\n",
            "\n",
            "QUESTION: How many death does cholera affect?\n",
            "\n",
            "ANSWER: 28,800–130,000\n",
            "\n",
            "QUESTION: What year is the most recent cholera pandemics started?\n",
            "The most recent of seven cholera pandemics and associated outbreaks, since the early 19th century, started about 1961.\n",
            "Symptoms start two hours to five days after exposure.\n",
            "People who survive an episode of cholera have long-lasting immunity for at least 3 years (the period tested.)\n",
            "\n",
            "QUESTION: What is the primary symptoms of cholera?\n",
            "The primary symptoms of cholera are profuse diarrhea and vomiting of clear fluid.\n",
            "Symptoms may range from none, to mild, to severe.\n",
            "Symptoms start two hours to five days after exposure.\n",
            "\n",
            "QUESTION: Why is cholera nicknamed the 'blue death'?\n",
            "\n",
            "Cholera has been nicknamed the \"blue death\" because a person's skin may turn bluish-gray from extreme loss of fluids.\n",
            "\n"
          ]
        }
      ]
    }
  ],
  "metadata": {
    "colab": {
      "provenance": []
    },
    "kernelspec": {
      "display_name": "Python 3",
      "name": "python3"
    },
    "language_info": {
      "name": "python"
    }
  },
  "nbformat": 4,
  "nbformat_minor": 0
}